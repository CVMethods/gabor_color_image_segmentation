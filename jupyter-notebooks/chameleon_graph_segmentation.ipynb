{
 "cells": [
  {
   "cell_type": "code",
   "execution_count": 1,
   "metadata": {},
   "outputs": [],
   "source": [
    "import os\n",
    "import sys\n",
    "import h5py\n",
    "from pathlib import Path\n",
    "\n",
    "sys.path.append('../')\n",
    "from source.computation_support import *\n",
    "from source.myGaborFunctions import *\n",
    "from source.color_transformations import *\n",
    "from source.plot_save_figures import *\n",
    "from source.graph_operations import *\n",
    "from source.chameleon import *\n",
    "\n",
    "from source.color_seg_methods import *\n",
    "%matplotlib qt"
   ]
  },
  {
   "cell_type": "code",
   "execution_count": 2,
   "metadata": {},
   "outputs": [],
   "source": [
    "# Read and show input image\n",
    "num_cores = -1\n",
    "source_dir = os.path.abspath('') + '/'\n",
    "num_imgs = 500\n",
    "\n",
    "hdf5_indir_im = Path( '../../data/hdf5_datasets/' + str(num_imgs) + 'images/' + 'images')\n",
    "images_file = h5py.File(hdf5_indir_im / \"Berkeley_images.h5\", \"r+\")\n",
    "\n",
    "all_img_ids = images_file[\"image_ids\"][:]\n",
    "img_subdirs = images_file[\"image_subdirs\"][:]\n",
    "\n",
    "test_indices = []\n",
    "\n",
    "for ii in range(len(all_img_ids)):\n",
    "    if img_subdirs[ii] == 'test':\n",
    "        test_indices.append(ii)"
   ]
  },
  {
   "cell_type": "code",
   "execution_count": 3,
   "metadata": {},
   "outputs": [
    {
     "data": {
      "text/plain": [
       "(array([82]),)"
      ]
     },
     "execution_count": 3,
     "metadata": {},
     "output_type": "execute_result"
    }
   ],
   "source": [
    "np.where(all_img_ids[test_indices]=='64061')"
   ]
  },
  {
   "cell_type": "code",
   "execution_count": 4,
   "metadata": {},
   "outputs": [
    {
     "data": {
      "text/plain": [
       "<matplotlib.image.AxesImage at 0x7fbb3c512e50>"
      ]
     },
     "execution_count": 4,
     "metadata": {},
     "output_type": "execute_result"
    }
   ],
   "source": [
    "# Read and show input image\n",
    "\n",
    "img_index = 13 #171 #174 # 10 works good\n",
    "image_vectors = images_file[\"images\"][test_indices][img_index]\n",
    "img_shapes = images_file[\"image_shapes\"][test_indices][img_index]\n",
    "\n",
    "img = image_vectors.reshape(img_shapes)\n",
    "\n",
    "rows, cols, channels = img.shape\n",
    "plt.figure()\n",
    "plt.imshow(img)\n",
    "\n"
   ]
  },
  {
   "cell_type": "code",
   "execution_count": 5,
   "metadata": {},
   "outputs": [
    {
     "data": {
      "text/plain": [
       "<matplotlib.image.AxesImage at 0x7fbb7c470350>"
      ]
     },
     "execution_count": 5,
     "metadata": {},
     "output_type": "execute_result"
    }
   ],
   "source": [
    "# Read superpixels\n",
    "n_slic = 500 * 5\n",
    "hdf5_indir_spix = Path('../../data/hdf5_datasets/' + str(num_imgs) + 'images/' + 'superpixels/' + str(n_slic) + '_slic')\n",
    "superpixels_file = h5py.File(hdf5_indir_spix / \"Berkeley_superpixels.h5\", \"r+\")\n",
    "superpixels_vectors = superpixels_file[\"superpixels\"][test_indices][img_index]\n",
    "\n",
    "regions_slic = superpixels_vectors.reshape(rows, cols)\n",
    "superpixels = segmentation.mark_boundaries(img, regions_slic, color=(0, 0, 0), mode='thick')\n",
    "superpixels = np.array(superpixels * 255, np.uint8)\n",
    "plt.imshow(superpixels)\n"
   ]
  },
  {
   "cell_type": "code",
   "execution_count": 6,
   "metadata": {},
   "outputs": [
    {
     "name": "stdout",
     "output_type": "stream",
     "text": [
      "Number of edges: 7760\n"
     ]
    },
    {
     "data": {
      "text/plain": [
       "<matplotlib.image.AxesImage at 0x7fbb3c11f3d0>"
      ]
     },
     "execution_count": 6,
     "metadata": {},
     "output_type": "execute_result"
    }
   ],
   "source": [
    "# Generating superpixels graph\n",
    "graph_type = 'rag'\n",
    "graph_raw = get_graph(img, regions_slic, graph_type)\n",
    "\n",
    "lc = graph.show_rag(regions_slic, graph_raw, img, edge_width=1, img_cmap=None, border_color=None)\n",
    "colbar_lim = (0, 1)\n",
    "lc.set_clim(colbar_lim[0], colbar_lim[1])\n",
    "plt.colorbar(lc, fraction=0.0355, pad=0.02)\n",
    "plt.imshow(img)  \n"
   ]
  },
  {
   "cell_type": "code",
   "execution_count": 7,
   "metadata": {},
   "outputs": [],
   "source": [
    "# Reading predicted gradients from h5 files\n",
    "\n",
    "gradients_dir = 'predicted_gradients'\n",
    "similarity_measure = 'OT'\n",
    "learning_method = 'SimpleSum'\n",
    "gabor_config = '6f_6a_3p_40p_0.70fb_30ab_0.90cpf_0.90cpa_3.0stds'\n",
    "graph_slic = str(n_slic) + '_slic_' + graph_type + '_' + similarity_measure \n",
    "\n",
    "\n",
    "hdf5_indir_grad = Path('../../data/hdf5_datasets/' + str(num_imgs) + 'images/' + gradients_dir + '/' + graph_slic + '/' + learning_method + '/' + gabor_config)\n",
    "imgs_gradients_file = h5py.File(hdf5_indir_grad / 'predicted_gradients.h5', \"r+\")\n",
    "imgs_gradients =  imgs_gradients_file[\"predicted_gradients\"][:]\n",
    "\n",
    "y_pred = imgs_gradients[img_index]\n",
    "y_pred_norm = (y_pred - min(y_pred)) / (max(y_pred) - min(y_pred))\n"
   ]
  },
  {
   "cell_type": "code",
   "execution_count": 8,
   "metadata": {},
   "outputs": [
    {
     "data": {
      "text/plain": [
       "<matplotlib.image.AxesImage at 0x7fbb35913f90>"
      ]
     },
     "execution_count": 8,
     "metadata": {},
     "output_type": "execute_result"
    }
   ],
   "source": [
    "# updating the edge weigths with predicted gradients\n",
    "graph_weighted = graph_raw.copy()\n",
    "for i_edge, e in enumerate(list(graph_raw.edges)):\n",
    "    graph_weighted[e[0]][e[1]]['weight'] = y_pred_norm[i_edge]#\n",
    "    graph_weighted[e[0]][e[1]]['similarity'] = int(1.0/y_pred[i_edge]* 1e4)\n",
    "    \n",
    "graph_weighted.graph['edge_weight_attr'] = 'similarity'\n",
    "\n",
    "lc = graph.show_rag(regions_slic, graph_weighted, img, edge_width=1, img_cmap=None, border_color=None)\n",
    "colbar_lim = (min(y_pred_norm), max(y_pred_norm))\n",
    "lc.set_clim(colbar_lim[0], colbar_lim[1])\n",
    "plt.colorbar(lc, fraction=0.0355, pad=0.02)\n",
    "plt.imshow(img) "
   ]
  },
  {
   "cell_type": "code",
   "execution_count": 9,
   "metadata": {},
   "outputs": [
    {
     "name": "stdout",
     "output_type": "stream",
     "text": [
      "Max edge weight: 1.0 Min edge weight: 0.0\n",
      "(1.124780603747347, -0.00026381318008374685, 0.05698744771302307)\n",
      "Threshold: 0.1025239749351934\n"
     ]
    },
    {
     "data": {
      "text/plain": [
       "Text(0.1025239749351934, 2.9288503534496715, 'threshold')"
      ]
     },
     "execution_count": 9,
     "metadata": {},
     "output_type": "execute_result"
    }
   ],
   "source": [
    "# Performing threshold graphcut\n",
    "graph_mode = 'complete'\n",
    "\n",
    "if graph_mode == 'complete':\n",
    "    weights = nx.get_edge_attributes(graph_weighted, 'weight').values()\n",
    "elif graph_mode == 'mst':\n",
    "    # Compute Minimum Spanning Tree\n",
    "    graph_mst = get_mst(graph_weighted)\n",
    "    weights = nx.get_edge_attributes(graph_mst, 'weight').values()\n",
    "    graph_weighted = graph_mst\n",
    "\n",
    "    \n",
    "cut_level = 0.7 \n",
    "law_type = 'log'\n",
    "thresh, params = fit_distribution_law(list(weights), cut_level, law_type)\n",
    "\n",
    "x = np.linspace(0, max(weights), 1000)\n",
    "if law_type == 'gamma':\n",
    "    pdf_fitted = gamma.pdf(x, *params)\n",
    "    thr_pos = gamma.pdf(thresh, *params)\n",
    "elif law_type == 'log':\n",
    "    pdf_fitted = lognorm.pdf(x, *params)\n",
    "    thr_pos = lognorm.pdf(thresh, *params)\n",
    "elif law_type == 'beta':\n",
    "    pdf_fitted = beta.pdf(x, *params)\n",
    "    thr_pos = beta.pdf(thresh, *params)\n",
    "\n",
    "plt.figure()\n",
    "plt.hist(weights, bins='auto', color='k', density=True)\n",
    "plt.plot(x, pdf_fitted, color='r')\n",
    "plt.grid(axis='y')\n",
    "plt.annotate('threshold', xy=(thresh, thr_pos), xytext=(thresh, pdf_fitted.max()/4), arrowprops=dict(facecolor='red', shrink=2))\n"
   ]
  },
  {
   "cell_type": "code",
   "execution_count": 10,
   "metadata": {},
   "outputs": [
    {
     "data": {
      "text/plain": [
       "<matplotlib.colorbar.Colorbar at 0x7fbb3501c550>"
      ]
     },
     "execution_count": 10,
     "metadata": {},
     "output_type": "execute_result"
    }
   ],
   "source": [
    "graph_aftercut_inverse = graph_weighted.copy()\n",
    "to_remove = [(x, y) for x, y, d in graph_aftercut_inverse.edges(data=True)\n",
    "                 if d['weight'] < thresh]\n",
    "graph_aftercut_inverse.remove_edges_from(to_remove)\n",
    "\n",
    "lc = graph.show_rag(regions_slic, graph_aftercut_inverse, superpixels, edge_width=1, img_cmap=None, border_color=None)\n",
    "colbar_lim = (min(y_pred_norm), max(y_pred_norm))\n",
    "lc.set_clim(colbar_lim[0], colbar_lim[1])\n",
    "plt.colorbar(lc, fraction=0.0355, pad=0.02)\n",
    "# plt.imshow(img)"
   ]
  },
  {
   "cell_type": "code",
   "execution_count": 11,
   "metadata": {},
   "outputs": [
    {
     "name": "stdout",
     "output_type": "stream",
     "text": [
      "Number of regions after graph cut: 364\n"
     ]
    },
    {
     "data": {
      "text/plain": [
       "<matplotlib.image.AxesImage at 0x7fbb34c15cd0>"
      ]
     },
     "execution_count": 11,
     "metadata": {},
     "output_type": "execute_result"
    }
   ],
   "source": [
    "graph_aftercut = graph_weighted.copy()\n",
    "\n",
    "graph.cut_threshold(regions_slic, graph_aftercut, thresh, in_place=True)\n",
    "regions_aftercut = graph2regions(graph_aftercut, regions_slic)\n",
    "weights_aftercut = nx.get_edge_attributes(graph_aftercut, 'weight').values()\n",
    "\n",
    "plt.figure()\n",
    "out = color.label2rgb(regions_aftercut, img, kind='avg')\n",
    "out = segmentation.mark_boundaries(out, regions_aftercut, color=(0, 0, 0), mode='thick')\n",
    "ax = plt.gca()\n",
    "ax.imshow(out)"
   ]
  },
  {
   "cell_type": "code",
   "execution_count": 12,
   "metadata": {},
   "outputs": [
    {
     "data": {
      "text/plain": [
       "<matplotlib.image.AxesImage at 0x7fbb34bd0310>"
      ]
     },
     "execution_count": 12,
     "metadata": {},
     "output_type": "execute_result"
    }
   ],
   "source": [
    "lc = graph.show_rag(regions_slic, graph_aftercut, img, edge_width=1, img_cmap=None, border_color=None)\n",
    "colbar_lim = (min(y_pred_norm), max(y_pred_norm))\n",
    "lc.set_clim(colbar_lim[0], colbar_lim[1])\n",
    "plt.colorbar(lc, fraction=0.0355, pad=0.02)\n",
    "plt.imshow(img) "
   ]
  },
  {
   "cell_type": "code",
   "execution_count": 13,
   "metadata": {},
   "outputs": [],
   "source": [
    "# # Generating superpixels graph\n",
    "# graph_type = 'rag'\n",
    "# graph_raw = get_graph(img, regions_aftercut, graph_type)\n",
    "\n",
    "# lc = graph.show_rag(regions_aftercut, graph_raw, img, edge_width=1, img_cmap=None, border_color=None)\n",
    "# colbar_lim = (0, 1)\n",
    "# lc.set_clim(colbar_lim[0], colbar_lim[1])\n",
    "# plt.colorbar(lc, fraction=0.0355, pad=0.02)\n",
    "# plt.imshow(img)  "
   ]
  },
  {
   "cell_type": "code",
   "execution_count": 14,
   "metadata": {},
   "outputs": [],
   "source": [
    "# # Reading Gabor features from h5 files\n",
    "\n",
    "# hdf5_indir_feat = Path('../../data/hdf5_datasets/'+str(num_imgs)+'images/' + 'features/' + gabor_config)\n",
    "# features_file = h5py.File(hdf5_indir_feat / 'Gabor_features.h5', \"r+\")\n",
    "# feature_vectors = features_file[\"gabor_features\"][test_indices][img_index]\n",
    "\n",
    "# n_freq = features_file.attrs['num_freq']\n",
    "# n_angles = features_file.attrs['num_angles']\n",
    "# fb = features_file.attrs['frequency_bandwidth']\n",
    "\n",
    "# g_energies = feature_vectors.reshape(rows, cols, n_freq * n_angles, channels)\n",
    "\n",
    "# # Compute ground distance matrix\n",
    "# ground_distance = cost_matrix_texture(n_freq, n_angles, fb)"
   ]
  },
  {
   "cell_type": "code",
   "execution_count": 15,
   "metadata": {},
   "outputs": [],
   "source": [
    "# graph_lum = graph_raw.copy()\n",
    "# graph_cr = graph_raw.copy()\n",
    "# graph_ci = graph_raw.copy()\n",
    "\n",
    "# ''' Updating edges weights with similarity measure (OT/KL) '''\n",
    "# graph_weighted_lum = update_edges_weight(regions_aftercut, graph_lum, g_energies[:, :, :, 0], ground_distance, similarity_measure)\n",
    "# graph_weighted_cr = update_edges_weight(regions_aftercut, graph_cr, g_energies[:, :, :, 1], ground_distance, similarity_measure)\n",
    "# graph_weighted_ci = update_edges_weight(regions_aftercut, graph_ci, g_energies[:, :, :, 2], ground_distance, similarity_measure)\n",
    "\n",
    "# weights_lum = np.fromiter(nx.get_edge_attributes(graph_weighted_lum, 'weight').values(), dtype=np.float32)\n",
    "# weights_cr = np.fromiter(nx.get_edge_attributes(graph_weighted_cr, 'weight').values(), dtype=np.float32)\n",
    "# weights_ci = np.fromiter(nx.get_edge_attributes(graph_weighted_ci, 'weight').values(), dtype=np.float32)"
   ]
  },
  {
   "cell_type": "code",
   "execution_count": 16,
   "metadata": {},
   "outputs": [],
   "source": [
    "# lc = graph.show_rag(regions_aftercut, graph_weighted_lum, img, edge_width=1, img_cmap=None, border_color=None)\n",
    "# colbar_lim = (min(weights_lum), max(weights_lum))\n",
    "# lc.set_clim(colbar_lim[0], colbar_lim[1])\n",
    "# plt.colorbar(lc, fraction=0.0355, pad=0.02)\n",
    "# plt.imshow(img)  "
   ]
  },
  {
   "cell_type": "code",
   "execution_count": 17,
   "metadata": {},
   "outputs": [],
   "source": [
    "# lc = graph.show_rag(regions_aftercut, graph_weighted_cr, img, edge_width=1, img_cmap=None, border_color=None)\n",
    "# colbar_lim = (min(weights_cr), max(weights_cr))\n",
    "# lc.set_clim(colbar_lim[0], colbar_lim[1])\n",
    "# plt.colorbar(lc, fraction=0.0355, pad=0.02)\n",
    "# plt.imshow(img)  "
   ]
  },
  {
   "cell_type": "code",
   "execution_count": 18,
   "metadata": {},
   "outputs": [],
   "source": [
    "# lc = graph.show_rag(regions_aftercut, graph_weighted_ci, img, edge_width=1, img_cmap=None, border_color=None)\n",
    "# colbar_lim = (min(weights_ci), max(weights_ci))\n",
    "# lc.set_clim(colbar_lim[0], colbar_lim[1])\n",
    "# plt.colorbar(lc, fraction=0.0355, pad=0.02)\n",
    "# plt.imshow(img)  "
   ]
  },
  {
   "cell_type": "code",
   "execution_count": 19,
   "metadata": {},
   "outputs": [],
   "source": [
    "# graph_lum_chr = graph_raw.copy()\n",
    "# for i_edge, e in enumerate(list(graph_lum_chr.edges)):\n",
    "#     total_weight = weights_lum[i_edge] + weights_cr[i_edge] + weights_ci[i_edge]\n",
    "#     graph_lum_chr[e[0]][e[1]]['weight'] = total_weight\n",
    "#     graph_lum_chr[e[0]][e[1]]['similarity'] = int(1.0/total_weight* 1e4)\n",
    "    \n",
    "# weights_lum_chr = np.fromiter(nx.get_edge_attributes(graph_lum_chr, 'weight').values(), dtype=np.float32)"
   ]
  },
  {
   "cell_type": "code",
   "execution_count": 20,
   "metadata": {},
   "outputs": [],
   "source": [
    "# lc = graph.show_rag(regions_aftercut, graph_lum_chr, img, edge_width=1, img_cmap=None, border_color=None)\n",
    "# colbar_lim = (min(weights_lum_chr), max(weights_lum_chr))\n",
    "# lc.set_clim(colbar_lim[0], colbar_lim[1])\n",
    "# plt.colorbar(lc, fraction=0.0355, pad=0.02)\n",
    "# plt.imshow(img)  "
   ]
  },
  {
   "cell_type": "code",
   "execution_count": 21,
   "metadata": {},
   "outputs": [
    {
     "data": {
      "text/plain": [
       "<matplotlib.image.AxesImage at 0x7fbb349fa9d0>"
      ]
     },
     "execution_count": 21,
     "metadata": {},
     "output_type": "execute_result"
    }
   ],
   "source": [
    "# Generating after cut graph\n",
    "graph_type = 'rag'\n",
    "# graph_raw = get_graph(img, regions_aftercut, graph_type)\n",
    "graph_mean_color = graph.rag_mean_color(img, regions_aftercut, mode='distance')\n",
    "\n",
    "lc = graph.show_rag(regions_aftercut, graph_mean_color, img, edge_width=1, img_cmap=None, border_color=None)\n",
    "# colbar_lim = (0, 1)\n",
    "# lc.set_clim(colbar_lim[0], colbar_lim[1])\n",
    "plt.colorbar(lc, fraction=0.0355, pad=0.02)\n",
    "plt.imshow(img)  "
   ]
  },
  {
   "cell_type": "code",
   "execution_count": 22,
   "metadata": {},
   "outputs": [],
   "source": [
    "def _weight_mean_color(graph, src, dst, n):\n",
    "    \"\"\"Callback to handle merging nodes by recomputing mean color.\n",
    "\n",
    "    The method expects that the mean color of `dst` is already computed.\n",
    "\n",
    "    Parameters\n",
    "    ----------\n",
    "    graph : RAG\n",
    "        The graph under consideration.\n",
    "    src, dst : int\n",
    "        The vertices in `graph` to be merged.\n",
    "    n : int\n",
    "        A neighbor of `src` or `dst` or both.\n",
    "\n",
    "    Returns\n",
    "    -------\n",
    "    data : dict\n",
    "        A dictionary with the `\"weight\"` attribute set as the absolute\n",
    "        difference of the mean color between node `dst` and `n`.\n",
    "    \"\"\"\n",
    "\n",
    "    diff = graph.nodes[dst]['mean color'] - graph.nodes[n]['mean color']\n",
    "    diff = np.linalg.norm(diff)\n",
    "    return {'weight': diff}\n",
    "\n",
    "\n",
    "def merge_mean_color(graph, src, dst):\n",
    "    \"\"\"Callback called before merging two nodes of a mean color distance graph.\n",
    "\n",
    "    This method computes the mean color of `dst`.\n",
    "\n",
    "    Parameters\n",
    "    ----------\n",
    "    graph : RAG\n",
    "        The graph under consideration.\n",
    "    src, dst : int\n",
    "        The vertices in `graph` to be merged.\n",
    "    \"\"\"\n",
    "    graph.nodes[dst]['total color'] += graph.nodes[src]['total color']\n",
    "    graph.nodes[dst]['pixel count'] += graph.nodes[src]['pixel count']\n",
    "    graph.nodes[dst]['mean color'] = (graph.nodes[dst]['total color'] /\n",
    "                                      graph.nodes[dst]['pixel count'])"
   ]
  },
  {
   "cell_type": "code",
   "execution_count": 28,
   "metadata": {},
   "outputs": [],
   "source": [
    "labels2 = graph.merge_hierarchical(regions_aftercut, graph_mean_color, thresh=70, rag_copy=False,\n",
    "                                   in_place_merge=True,\n",
    "                                   merge_func=merge_mean_color,\n",
    "                                   weight_func=_weight_mean_color)"
   ]
  },
  {
   "cell_type": "code",
   "execution_count": 29,
   "metadata": {},
   "outputs": [
    {
     "data": {
      "text/plain": [
       "(481, 321)"
      ]
     },
     "execution_count": 29,
     "metadata": {},
     "output_type": "execute_result"
    }
   ],
   "source": [
    "labels2.shape"
   ]
  },
  {
   "cell_type": "code",
   "execution_count": 30,
   "metadata": {},
   "outputs": [
    {
     "data": {
      "text/plain": [
       "<matplotlib.image.AxesImage at 0x7fbb34030a10>"
      ]
     },
     "execution_count": 30,
     "metadata": {},
     "output_type": "execute_result"
    }
   ],
   "source": [
    "plt.figure()\n",
    "out = color.label2rgb(labels2, img, kind='avg')\n",
    "out = segmentation.mark_boundaries(out, labels2, color=(0, 0, 0), mode='thick')\n",
    "ax = plt.gca()\n",
    "ax.imshow(out)"
   ]
  },
  {
   "cell_type": "code",
   "execution_count": 26,
   "metadata": {},
   "outputs": [],
   "source": [
    "for i_edge, e in enumerate(list(graph_mean_color.edges)):\n",
    "    graph_mean_color[e[0]][e[1]]['similarity'] = graph_mean_color[e[0]][e[1]]['weight'] \n",
    "graph_mean_color.graph['edge_weight_attr'] = 'similarity'\n"
   ]
  },
  {
   "cell_type": "code",
   "execution_count": 27,
   "metadata": {},
   "outputs": [
    {
     "ename": "KeyError",
     "evalue": "0",
     "output_type": "error",
     "traceback": [
      "\u001b[0;31m---------------------------------------------------------------------------\u001b[0m",
      "\u001b[0;31mKeyError\u001b[0m                                  Traceback (most recent call last)",
      "\u001b[0;32m<ipython-input-27-a6f0b166160d>\u001b[0m in \u001b[0;36m<module>\u001b[0;34m\u001b[0m\n\u001b[0;32m----> 1\u001b[0;31m \u001b[0mgraph_mean_color\u001b[0m\u001b[0;34m[\u001b[0m\u001b[0;36m0\u001b[0m\u001b[0;34m]\u001b[0m\u001b[0;34m[\u001b[0m\u001b[0;36m1\u001b[0m\u001b[0;34m]\u001b[0m\u001b[0;34m[\u001b[0m\u001b[0;34m'similarity'\u001b[0m\u001b[0;34m]\u001b[0m\u001b[0;34m\u001b[0m\u001b[0;34m\u001b[0m\u001b[0m\n\u001b[0m",
      "\u001b[0;32m~/anaconda3/envs/py3/lib/python3.7/site-packages/networkx/classes/graph.py\u001b[0m in \u001b[0;36m__getitem__\u001b[0;34m(self, n)\u001b[0m\n\u001b[1;32m    473\u001b[0m         \u001b[0mAtlasView\u001b[0m\u001b[0;34m(\u001b[0m\u001b[0;34m{\u001b[0m\u001b[0;36m1\u001b[0m\u001b[0;34m:\u001b[0m \u001b[0;34m{\u001b[0m\u001b[0;34m}\u001b[0m\u001b[0;34m}\u001b[0m\u001b[0;34m)\u001b[0m\u001b[0;34m\u001b[0m\u001b[0;34m\u001b[0m\u001b[0m\n\u001b[1;32m    474\u001b[0m         \"\"\"\n\u001b[0;32m--> 475\u001b[0;31m         \u001b[0;32mreturn\u001b[0m \u001b[0mself\u001b[0m\u001b[0;34m.\u001b[0m\u001b[0madj\u001b[0m\u001b[0;34m[\u001b[0m\u001b[0mn\u001b[0m\u001b[0;34m]\u001b[0m\u001b[0;34m\u001b[0m\u001b[0;34m\u001b[0m\u001b[0m\n\u001b[0m\u001b[1;32m    476\u001b[0m \u001b[0;34m\u001b[0m\u001b[0m\n\u001b[1;32m    477\u001b[0m     \u001b[0;32mdef\u001b[0m \u001b[0madd_node\u001b[0m\u001b[0;34m(\u001b[0m\u001b[0mself\u001b[0m\u001b[0;34m,\u001b[0m \u001b[0mnode_for_adding\u001b[0m\u001b[0;34m,\u001b[0m \u001b[0;34m**\u001b[0m\u001b[0mattr\u001b[0m\u001b[0;34m)\u001b[0m\u001b[0;34m:\u001b[0m\u001b[0;34m\u001b[0m\u001b[0;34m\u001b[0m\u001b[0m\n",
      "\u001b[0;32m~/anaconda3/envs/py3/lib/python3.7/site-packages/networkx/classes/coreviews.py\u001b[0m in \u001b[0;36m__getitem__\u001b[0;34m(self, name)\u001b[0m\n\u001b[1;32m     79\u001b[0m \u001b[0;34m\u001b[0m\u001b[0m\n\u001b[1;32m     80\u001b[0m     \u001b[0;32mdef\u001b[0m \u001b[0m__getitem__\u001b[0m\u001b[0;34m(\u001b[0m\u001b[0mself\u001b[0m\u001b[0;34m,\u001b[0m \u001b[0mname\u001b[0m\u001b[0;34m)\u001b[0m\u001b[0;34m:\u001b[0m\u001b[0;34m\u001b[0m\u001b[0;34m\u001b[0m\u001b[0m\n\u001b[0;32m---> 81\u001b[0;31m         \u001b[0;32mreturn\u001b[0m \u001b[0mAtlasView\u001b[0m\u001b[0;34m(\u001b[0m\u001b[0mself\u001b[0m\u001b[0;34m.\u001b[0m\u001b[0m_atlas\u001b[0m\u001b[0;34m[\u001b[0m\u001b[0mname\u001b[0m\u001b[0;34m]\u001b[0m\u001b[0;34m)\u001b[0m\u001b[0;34m\u001b[0m\u001b[0;34m\u001b[0m\u001b[0m\n\u001b[0m\u001b[1;32m     82\u001b[0m \u001b[0;34m\u001b[0m\u001b[0m\n\u001b[1;32m     83\u001b[0m     \u001b[0;32mdef\u001b[0m \u001b[0mcopy\u001b[0m\u001b[0;34m(\u001b[0m\u001b[0mself\u001b[0m\u001b[0;34m)\u001b[0m\u001b[0;34m:\u001b[0m\u001b[0;34m\u001b[0m\u001b[0;34m\u001b[0m\u001b[0m\n",
      "\u001b[0;31mKeyError\u001b[0m: 0"
     ]
    }
   ],
   "source": [
    "graph_mean_color[0][1]['similarity']"
   ]
  },
  {
   "cell_type": "code",
   "execution_count": null,
   "metadata": {},
   "outputs": [],
   "source": [
    "graph_mean_color[0][1]['weight']"
   ]
  },
  {
   "cell_type": "code",
   "execution_count": null,
   "metadata": {},
   "outputs": [],
   "source": [
    "print(hola)"
   ]
  },
  {
   "cell_type": "code",
   "execution_count": null,
   "metadata": {},
   "outputs": [],
   "source": [
    "# Preparing data for chameleon\n",
    "centroids = nx.get_node_attributes(graph_mean_color, 'centroid').values()\n",
    "\n",
    "for i, p in enumerate(graph_mean_color.nodes()):\n",
    "    graph_mean_color.nodes[p]['cluster'] = graph_mean_color.nodes[p]['labels'][0]\n",
    "\n",
    "df = pd.DataFrame.from_dict(centroids)\n",
    "\n",
    "df['cluster'] = nx.get_node_attributes(graph_mean_color, 'cluster').values()"
   ]
  },
  {
   "cell_type": "code",
   "execution_count": null,
   "metadata": {},
   "outputs": [],
   "source": [
    "init_clusters = int(len(centroids))\n",
    "print(init_clusters)\n",
    "final_clusters = 4\n",
    "alpha = 2\n",
    "iterm = tqdm(enumerate(range(init_clusters - final_clusters)), total=init_clusters - final_clusters)\n",
    "for i in iterm:\n",
    "    merge_best(graph_mean_color, df, alpha, final_clusters, verbose=False)\n",
    "#     plot2d_data(df)"
   ]
  },
  {
   "cell_type": "code",
   "execution_count": null,
   "metadata": {},
   "outputs": [],
   "source": [
    "res = rebuild_labels(df)\n",
    "plot2d_data(res)"
   ]
  },
  {
   "cell_type": "code",
   "execution_count": null,
   "metadata": {},
   "outputs": [],
   "source": [
    "map_array = np.zeros(regions_slic.max() + 1, dtype=regions_slic.dtype)\n",
    "# Mapping from old labels to new\n",
    "for n, d in graph_mean_color.nodes(data=True):\n",
    "    map_array[d['labels']] = d['cluster']"
   ]
  },
  {
   "cell_type": "code",
   "execution_count": null,
   "metadata": {},
   "outputs": [],
   "source": [
    "regions_cham = map_array[regions_slic]\n",
    "out = color.label2rgb(regions_cham, img, kind='avg')\n",
    "out = segmentation.mark_boundaries(out, regions_cham, color=(0, 0, 0), mode='thick')\n",
    "ax = plt.gca()\n",
    "ax.imshow(out)\n"
   ]
  },
  {
   "cell_type": "code",
   "execution_count": null,
   "metadata": {},
   "outputs": [],
   "source": [
    "regions_cham = graph2regions(graph_mean_color, regions_slic)\n",
    "# map_array = np.zeros(regions_aftercut.max() + 1, dtype=regions_aftercut.dtype)\n",
    "# # Mapping from old labels to new\n",
    "# for n, d in graph_mean_color.nodes(data=True):\n",
    "#     map_array[d['labels']] = d['cluster']\n",
    "    \n",
    "# regions_cham = map_array[regions_aftercut]\n",
    "out = color.label2rgb(regions_cham, img, kind='avg')\n",
    "out = segmentation.mark_boundaries(out, regions_cham, color=(0, 0, 0), mode='thick')\n",
    "ax = plt.gca()\n",
    "ax.imshow(out)"
   ]
  },
  {
   "cell_type": "code",
   "execution_count": null,
   "metadata": {},
   "outputs": [],
   "source": [
    "lc = graph.show_rag(regions_aftercut, graph_mean_color, img, edge_width=1, img_cmap=None, border_color=None)\n",
    "# colbar_lim = (0, 1)\n",
    "# lc.set_clim(colbar_lim[0], colbar_lim[1])\n",
    "plt.colorbar(lc, fraction=0.0355, pad=0.02)\n",
    "plt.imshow(img)  "
   ]
  },
  {
   "cell_type": "code",
   "execution_count": null,
   "metadata": {},
   "outputs": [],
   "source": [
    "print(hola)"
   ]
  },
  {
   "cell_type": "code",
   "execution_count": null,
   "metadata": {},
   "outputs": [],
   "source": [
    "centroids = nx.get_node_attributes(graph_pred, 'centroid').values()\n",
    "df = pd.DataFrame.from_dict(centroids)\n"
   ]
  },
  {
   "cell_type": "code",
   "execution_count": null,
   "metadata": {},
   "outputs": [],
   "source": [
    "# Dividing original graph using max number of nodes \n",
    "max_num_nodes = 40\n",
    "num_clusters = 3\n",
    "alpha = 1000\n",
    "graph_parted = pre_part_graph(graph_pred, max_num_nodes, df, verbose=True)"
   ]
  },
  {
   "cell_type": "code",
   "execution_count": null,
   "metadata": {
    "scrolled": false
   },
   "outputs": [],
   "source": [
    "iterm = tqdm(enumerate(range(max_num_nodes - num_clusters)), total=max_num_nodes - num_clusters)\n",
    "for i in iterm:\n",
    "    merge_best(graph_parted, df, alpha, num_clusters, verbose=False)\n",
    "#     plot2d_data(df)"
   ]
  },
  {
   "cell_type": "code",
   "execution_count": null,
   "metadata": {},
   "outputs": [],
   "source": [
    "res = rebuild_labels(df)"
   ]
  },
  {
   "cell_type": "code",
   "execution_count": null,
   "metadata": {},
   "outputs": [],
   "source": [
    "plot2d_data(res)"
   ]
  },
  {
   "cell_type": "code",
   "execution_count": null,
   "metadata": {},
   "outputs": [],
   "source": [
    "map_array = np.zeros(regions_slic.max() + 1, dtype=regions_slic.dtype)\n",
    "# Mapping from old labels to new\n",
    "for n, d in graph_pred.nodes(data=True):\n",
    "    map_array[d['labels']] = d['cluster']\n",
    "    \n"
   ]
  },
  {
   "cell_type": "code",
   "execution_count": null,
   "metadata": {},
   "outputs": [],
   "source": [
    "regions_cham = map_array[regions_slic]\n",
    "out = color.label2rgb(regions_cham, img, kind='avg')\n",
    "out = segmentation.mark_boundaries(out, regions_cham, color=(0, 0, 0), mode='thick')\n",
    "ax = plt.gca()\n",
    "ax.imshow(out)\n"
   ]
  },
  {
   "cell_type": "code",
   "execution_count": null,
   "metadata": {},
   "outputs": [],
   "source": []
  },
  {
   "cell_type": "code",
   "execution_count": null,
   "metadata": {},
   "outputs": [],
   "source": []
  }
 ],
 "metadata": {
  "kernelspec": {
   "display_name": "py3",
   "language": "python",
   "name": "py3"
  },
  "language_info": {
   "codemirror_mode": {
    "name": "ipython",
    "version": 3
   },
   "file_extension": ".py",
   "mimetype": "text/x-python",
   "name": "python",
   "nbconvert_exporter": "python",
   "pygments_lexer": "ipython3",
   "version": "3.7.7"
  }
 },
 "nbformat": 4,
 "nbformat_minor": 4
}
